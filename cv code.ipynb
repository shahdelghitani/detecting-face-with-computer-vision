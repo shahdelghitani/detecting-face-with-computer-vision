{
 "cells": [
  {
   "cell_type": "markdown",
   "metadata": {},
   "source": [
    "# 2. Importing Libraries\n",
    "___\n",
    "___"
   ]
  },
  {
   "cell_type": "code",
   "execution_count": 1,
   "metadata": {},
   "outputs": [],
   "source": [
    "import cv2\n",
    "import face_recognition\n",
    "import sqlite3\n",
    "import numpy as np\n",
    "from datetime import datetime\n",
    "import time\n",
    "import pickle"
   ]
  },
  {
   "cell_type": "markdown",
   "metadata": {},
   "source": [
    "# 2. Creating Database to try that code is valid\n",
    "___\n",
    "___"
   ]
  },
  {
   "cell_type": "code",
   "execution_count": 2,
   "metadata": {},
   "outputs": [],
   "source": [
    "def connect_db():\n",
    "    return sqlite3.connect('session.db', timeout=10)\n",
    "\n",
    "def create_or_update_table():\n",
    "    try:\n",
    "        conn = connect_db()\n",
    "        cursor = conn.cursor()\n",
    "\n",
    "        cursor.execute('''\n",
    "        CREATE TABLE IF NOT EXISTS attendance (\n",
    "            id INTEGER PRIMARY KEY AUTOINCREMENT,\n",
    "            NAME TEXT,\n",
    "            entry_time TEXT,\n",
    "            exit_time TEXT,\n",
    "            encoding BLOB\n",
    "        )\n",
    "        ''')\n",
    "\n",
    "        conn.commit()\n",
    "    except sqlite3.OperationalError as e:\n",
    "        print(f\"Database is locked or another operational error occurred: {e}\")\n",
    "    finally:\n",
    "        conn.close()"
   ]
  },
  {
   "cell_type": "markdown",
   "metadata": {},
   "source": [
    " # 3.  This code logs a person's entry and exit times along with their face encoding in a database.\n",
    "___\n",
    "___"
   ]
  },
  {
   "cell_type": "code",
   "execution_count": 3,
   "metadata": {},
   "outputs": [],
   "source": [
    "def When_entry(name, encoding):\n",
    "    try:\n",
    "        if isinstance(encoding, np.ndarray):\n",
    "            print(f\"Encoding to be stored for {name}: {encoding}\")  # طباعة الـ encoding قبل التخزين\n",
    "            encoding_data = pickle.dumps(encoding)  # ترميز الـ encoding باستخدام pickle\n",
    "            current_time = datetime.now().strftime('%Y-%m-%d %H:%M:%S')\n",
    "            conn = connect_db()\n",
    "            cursor = conn.cursor()\n",
    "            cursor.execute(\"INSERT INTO attendance (NAME, entry_time, encoding) VALUES (?, ?, ?)\", \n",
    "                           (name, current_time, sqlite3.Binary(encoding_data)))\n",
    "            conn.commit()\n",
    "\n",
    "\n",
    "            cursor.execute(\"SELECT encoding FROM attendance WHERE NAME = ?\", (name,))\n",
    "            stored_data = cursor.fetchone()\n",
    "\n",
    "            if stored_data and stored_data[0] is not None:  \n",
    "                try:\n",
    "                    print(f\"Stored encoding for {name}: {pickle.loads(stored_data[0])}\")  \n",
    "                except Exception as e:\n",
    "                    print(f\"Error decoding stored encoding for {name}: {e}\")\n",
    "            else:\n",
    "                print(f\"No encoding found or stored encoding is None for {name}\")\n",
    "    except sqlite3.OperationalError as e:\n",
    "        print(f\"Database is locked or another operational error occurred: {e}\")\n",
    "    finally:\n",
    "        conn.close()\n",
    "\n",
    "def when_exit(name):\n",
    "    try:\n",
    "        current_time = datetime.now().strftime('%Y-%m-%d %H:%M:%S')\n",
    "        conn = connect_db()\n",
    "        cursor = conn.cursor()\n",
    "        cursor.execute(\"UPDATE attendance SET exit_time = ? WHERE NAME = ? AND exit_time IS NULL\", \n",
    "                       (current_time, name))\n",
    "        conn.commit()\n",
    "    except sqlite3.OperationalError as e:\n",
    "        print(f\"Database is locked or another operational error occurred: {e}\")\n",
    "    finally:\n",
    "        conn.close()"
   ]
  },
  {
   "cell_type": "markdown",
   "metadata": {},
   "source": [
    "### 4.The code finds and returns the name of a person whose face matches a given face encoding from the database.\n",
    "___\n",
    "___"
   ]
  },
  {
   "cell_type": "code",
   "execution_count": 4,
   "metadata": {},
   "outputs": [],
   "source": [
    "def find_matching_face(face_encoding):\n",
    "    try:\n",
    "        conn = connect_db()\n",
    "        cursor = conn.cursor()\n",
    "\n",
    "        cursor.execute(\"SELECT NAME, encoding FROM attendance\")\n",
    "        all_faces = cursor.fetchall()\n",
    "\n",
    "        for stored_name, stored_encoding_blob in all_faces:\n",
    "            if stored_encoding_blob: \n",
    "                try:\n",
    "                    stored_encoding = pickle.loads(stored_encoding_blob) \n",
    "\n",
    "                    matches = face_recognition.compare_faces([stored_encoding], face_encoding)\n",
    "\n",
    "                    if matches[0]: \n",
    "                        return stored_name\n",
    "                except Exception as e:\n",
    "                    print(f\"Error decoding face encoding for {stored_name}: {e}\")\n",
    "    except sqlite3.OperationalError as e:\n",
    "        print(f\"Database is locked or another operational error occurred: {e}\")\n",
    "    finally:\n",
    "        conn.close()\n",
    "\n",
    "    return None\n"
   ]
  },
  {
   "cell_type": "markdown",
   "metadata": {},
   "source": [
    "# 4. Loading Haarcascade Model\n",
    "___"
   ]
  },
  {
   "cell_type": "code",
   "execution_count": 5,
   "metadata": {},
   "outputs": [],
   "source": [
    "face_detection = cv2.CascadeClassifier(r'c:\\Users\\skynet\\Pictures\\Ml Projects\\haarcascade_frontalface_default.xml')"
   ]
  },
  {
   "cell_type": "markdown",
   "metadata": {},
   "source": [
    "# 5. start the camera\n",
    "___\n",
    "___"
   ]
  },
  {
   "cell_type": "code",
   "execution_count": 6,
   "metadata": {},
   "outputs": [],
   "source": [
    "\n",
    "camera = cv2.VideoCapture(0)"
   ]
  },
  {
   "cell_type": "markdown",
   "metadata": {},
   "source": [
    "# 6.Track the presence status (in/out)\n",
    "___"
   ]
  },
  {
   "cell_type": "code",
   "execution_count": 7,
   "metadata": {},
   "outputs": [],
   "source": [
    "person_present = {}\n",
    "last_seen_time = {}\n",
    "cooldown_time = 20"
   ]
  },
  {
   "cell_type": "markdown",
   "metadata": {},
   "source": [
    "# 7.Loop for Face Detection and Attendance Logging\n",
    "___"
   ]
  },
  {
   "cell_type": "code",
   "execution_count": 8,
   "metadata": {},
   "outputs": [
    {
     "name": "stdout",
     "output_type": "stream",
     "text": [
      "Encoding to be stored for qqq: [-0.03708177  0.07392838  0.07168819 -0.06334274 -0.0502785  -0.03399943\n",
      " -0.06885545 -0.0468197   0.22074075 -0.12059987  0.20327982  0.0654911\n",
      " -0.26830825 -0.01459798  0.02076995  0.1507898  -0.1272534  -0.09589776\n",
      " -0.14275004 -0.12242798 -0.05797902  0.05658723  0.08457095 -0.02386622\n",
      " -0.16767967 -0.25502354 -0.11863537 -0.09209098  0.01331874 -0.11503343\n",
      "  0.03730578  0.06263694 -0.17241286 -0.05682644  0.05556125  0.03741685\n",
      "  0.01082759 -0.0394324   0.18618335  0.01723754 -0.1706215  -0.03472388\n",
      "  0.01037508  0.25408164  0.21000403  0.00863452  0.0168989  -0.11342286\n",
      "  0.10777859 -0.29981396  0.03397571  0.08918244  0.02185784  0.07146306\n",
      "  0.07245173 -0.17593066  0.026777    0.1584563  -0.15978733  0.04412953\n",
      "  0.04592987 -0.10248102 -0.08649217 -0.07414655  0.23044334  0.08508566\n",
      " -0.14592469 -0.20667808  0.18238693 -0.1298396  -0.01699467  0.11331223\n",
      " -0.11932048 -0.14988109 -0.30316919  0.03653984  0.41731653  0.13311814\n",
      " -0.13874479  0.07102455 -0.14941779 -0.03112684 -0.08141598  0.06261282\n",
      " -0.06496918 -0.01313588 -0.03369369  0.04815586  0.20852652 -0.06449121\n",
      "  0.00045535  0.21062732 -0.04700186  0.07554582 -0.02543452  0.02975644\n",
      " -0.15069985 -0.00761049 -0.12974119 -0.02198208  0.04389627 -0.07828905\n",
      "  0.050601    0.15324619 -0.18990645  0.20246333 -0.03005829 -0.04408612\n",
      "  0.05203706  0.07946928 -0.05323192 -0.0734579   0.20472772 -0.28125867\n",
      "  0.21181871  0.21878695  0.04709009  0.12635976  0.05745803  0.13604233\n",
      " -0.022311    0.06374737 -0.18668491 -0.05721231 -0.00243814 -0.05837036\n",
      " -0.00639177  0.04470745]\n",
      "Stored encoding for qqq: [-0.03708177  0.07392838  0.07168819 -0.06334274 -0.0502785  -0.03399943\n",
      " -0.06885545 -0.0468197   0.22074075 -0.12059987  0.20327982  0.0654911\n",
      " -0.26830825 -0.01459798  0.02076995  0.1507898  -0.1272534  -0.09589776\n",
      " -0.14275004 -0.12242798 -0.05797902  0.05658723  0.08457095 -0.02386622\n",
      " -0.16767967 -0.25502354 -0.11863537 -0.09209098  0.01331874 -0.11503343\n",
      "  0.03730578  0.06263694 -0.17241286 -0.05682644  0.05556125  0.03741685\n",
      "  0.01082759 -0.0394324   0.18618335  0.01723754 -0.1706215  -0.03472388\n",
      "  0.01037508  0.25408164  0.21000403  0.00863452  0.0168989  -0.11342286\n",
      "  0.10777859 -0.29981396  0.03397571  0.08918244  0.02185784  0.07146306\n",
      "  0.07245173 -0.17593066  0.026777    0.1584563  -0.15978733  0.04412953\n",
      "  0.04592987 -0.10248102 -0.08649217 -0.07414655  0.23044334  0.08508566\n",
      " -0.14592469 -0.20667808  0.18238693 -0.1298396  -0.01699467  0.11331223\n",
      " -0.11932048 -0.14988109 -0.30316919  0.03653984  0.41731653  0.13311814\n",
      " -0.13874479  0.07102455 -0.14941779 -0.03112684 -0.08141598  0.06261282\n",
      " -0.06496918 -0.01313588 -0.03369369  0.04815586  0.20852652 -0.06449121\n",
      "  0.00045535  0.21062732 -0.04700186  0.07554582 -0.02543452  0.02975644\n",
      " -0.15069985 -0.00761049 -0.12974119 -0.02198208  0.04389627 -0.07828905\n",
      "  0.050601    0.15324619 -0.18990645  0.20246333 -0.03005829 -0.04408612\n",
      "  0.05203706  0.07946928 -0.05323192 -0.0734579   0.20472772 -0.28125867\n",
      "  0.21181871  0.21878695  0.04709009  0.12635976  0.05745803  0.13604233\n",
      " -0.022311    0.06374737 -0.18668491 -0.05721231 -0.00243814 -0.05837036\n",
      " -0.00639177  0.04470745]\n"
     ]
    }
   ],
   "source": [
    "\n",
    "create_or_update_table()\n",
    "\n",
    "while True:\n",
    "    st, frame = camera.read()\n",
    "    if not st:\n",
    "        print(\"Failed to capture image\")\n",
    "        break\n",
    "\n",
    "    gray_frame = cv2.cvtColor(frame, cv2.COLOR_BGR2GRAY)\n",
    "    faces = face_detection.detectMultiScale(gray_frame, 1.3, 5)\n",
    "    current_time = datetime.now().strftime('%Y-%m-%d %H:%M:%S')\n",
    "\n",
    "    for (x, y, w, h) in faces:\n",
    "        cv2.rectangle(frame, (x, y), (x+w, y+h), (0, 255, 0), 2)\n",
    "\n",
    "        rgb_frame = cv2.cvtColor(frame, cv2.COLOR_BGR2RGB)\n",
    "        face_encodings = face_recognition.face_encodings(rgb_frame, [(y, x+w, y+h, x)])\n",
    "\n",
    "        for face_encoding in face_encodings:\n",
    "            name = find_matching_face(face_encoding)\n",
    "\n",
    "            if name:\n",
    "                cv2.putText(frame, f\"{name}\", (x, y - 10), cv2.FONT_HERSHEY_SIMPLEX, 0.9, (255, 0, 0), 2)\n",
    "\n",
    "                if name not in person_present:\n",
    "                    When_entry(name, face_encoding)\n",
    "                    person_present[name] = True\n",
    "\n",
    "                last_seen_time[name] = time.time()\n",
    "            else:\n",
    "                actual_name = input(\"Enter the name for the new person: \")\n",
    "                When_entry(actual_name, face_encoding)\n",
    "                person_present[actual_name] = True\n",
    "                last_seen_time[actual_name] = time.time()\n",
    "                cv2.putText(frame, f\"{actual_name}\", (x, y - 10), cv2.FONT_HERSHEY_SIMPLEX, 0.9, (255, 0, 0), 2)\n",
    "\n",
    "    for name in list(person_present.keys()):\n",
    "        if time.time() - last_seen_time.get(name, 0) > cooldown_time:\n",
    "            when_exit(name)\n",
    "            del person_present[name]\n",
    "\n",
    "    cv2.imshow('Camera', frame)\n",
    "\n",
    "    if cv2.waitKey(33) & 0xff == ord('q'):\n",
    "        break\n",
    "\n",
    "camera.release()\n",
    "cv2.destroyAllWindows()\n"
   ]
  }
 ],
 "metadata": {
  "kernelspec": {
   "display_name": "Python 3",
   "language": "python",
   "name": "python3"
  },
  "language_info": {
   "codemirror_mode": {
    "name": "ipython",
    "version": 3
   },
   "file_extension": ".py",
   "mimetype": "text/x-python",
   "name": "python",
   "nbconvert_exporter": "python",
   "pygments_lexer": "ipython3",
   "version": "3.12.5"
  }
 },
 "nbformat": 4,
 "nbformat_minor": 2
}
